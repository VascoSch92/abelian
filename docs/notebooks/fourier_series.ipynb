{
 "cells": [
  {
   "cell_type": "markdown",
   "metadata": {},
   "source": [
    "# Tutorial: Fourier series"
   ]
  },
  {
   "cell_type": "markdown",
   "metadata": {},
   "source": [
    "This is an interactive tutorial written with real code.\n",
    "We start by setting up $\\LaTeX$ printing and importing some classes."
   ]
  },
  {
   "cell_type": "code",
   "execution_count": 1,
   "metadata": {
    "collapsed": true
   },
   "outputs": [],
   "source": [
    "# Imports related to plotting and LaTeX\n",
    "import matplotlib.pyplot as plt\n",
    "%matplotlib inline\n",
    "from IPython.display import display, Math\n",
    "from IPython.display import set_matplotlib_formats\n",
    "set_matplotlib_formats('pdf', 'png')\n",
    "def show(arg):\n",
    "    return display(Math(arg.to_latex()))"
   ]
  },
  {
   "cell_type": "code",
   "execution_count": 2,
   "metadata": {
    "collapsed": true
   },
   "outputs": [],
   "source": [
    "# Imports related to mathematics\n",
    "import numpy as np\n",
    "from abelian import LCA, HomLCA, LCAFunc\n",
    "from sympy import Rational, pi"
   ]
  },
  {
   "cell_type": "markdown",
   "metadata": {},
   "source": [
    "## Overview: $f(x) = x$ defined on $T = \\mathbb{R}/\\mathbb{Z}$"
   ]
  },
  {
   "cell_type": "markdown",
   "metadata": {},
   "source": [
    "In this example we compute the Fourier series coefficients for\n",
    "$f(x) = x$ with domain $T = \\mathbb{R}/\\mathbb{Z}$.\n",
    "\n",
    "We will proceed as follows:\n",
    "\n",
    "1. Define a function $f(x) = x$ on $T$.\n",
    "2. Sample using pullback along $\\phi_\\text{sample}: \\mathbb{Z}_n \\to T$. Specifically, we will use $\\phi(n) = 1/n$ to sample uniformly.\n",
    "3. Compute the DFT of the sampled function using the `dft` method.\n",
    "4. Use a transversal rule to move the DFT from $\\mathbb{Z}_n$ to $\\widehat{T} = \\mathbb{Z}$.\n",
    "5. Plot the result and compare with the analytical solution, which can be obtained by computing the complex Fourier coefficients of the Fourier integral by hand.\n",
    "\n",
    "We start by defining the function on the domain."
   ]
  },
  {
   "cell_type": "markdown",
   "metadata": {},
   "source": [
    "## Defining the function"
   ]
  },
  {
   "cell_type": "code",
   "execution_count": 3,
   "metadata": {},
   "outputs": [
    {
     "data": {
      "text/latex": [
       "$$\\operatorname{function} \\in \\mathbb{C}^G, \\ G = T$$"
      ],
      "text/plain": [
       "<IPython.core.display.Math object>"
      ]
     },
     "metadata": {},
     "output_type": "display_data"
    }
   ],
   "source": [
    "def identity(arg_list):\n",
    "    return sum(arg_list)\n",
    "\n",
    "# Create the domain T and a function on it\n",
    "T = LCA(orders = [1], discrete = [False])\n",
    "function = LCAFunc(identity, T)\n",
    "show(function)"
   ]
  },
  {
   "cell_type": "markdown",
   "metadata": {},
   "source": [
    "We now create a monomorphism $\\phi_\\text{sample}$ to sample the function, where we make use of the `Rational` class to avoid numerical errors."
   ]
  },
  {
   "cell_type": "markdown",
   "metadata": {},
   "source": [
    "## Sampling using pullback"
   ]
  },
  {
   "cell_type": "code",
   "execution_count": 4,
   "metadata": {},
   "outputs": [
    {
     "data": {
      "text/latex": [
       "$$\\begin{pmatrix}\\frac{1}{8}\\end{pmatrix}:\\mathbb{Z}_{8} \\to T$$"
      ],
      "text/plain": [
       "<IPython.core.display.Math object>"
      ]
     },
     "metadata": {},
     "output_type": "display_data"
    }
   ],
   "source": [
    "# Set up the number of sample points\n",
    "n = 8\n",
    "\n",
    "# Create the source of the monomorphism\n",
    "Z_n = LCA([n]) \n",
    "phi_sample = HomLCA([Rational(1, n)],T, Z_n)\n",
    "show(phi_sample)"
   ]
  },
  {
   "cell_type": "markdown",
   "metadata": {},
   "source": [
    "We sample the function using the pullback."
   ]
  },
  {
   "cell_type": "code",
   "execution_count": 5,
   "metadata": {
    "collapsed": true
   },
   "outputs": [],
   "source": [
    "# Pullback along phi_sample\n",
    "function_sampled = function.pullback(phi_sample)"
   ]
  },
  {
   "cell_type": "markdown",
   "metadata": {},
   "source": [
    "Then we compute the DFT (discrete Fourier transform). The DFT is available on functions defined on $\\mathbb{Z}_\\mathbf{p}$ with $p_i \\geq 1$, i.e. on FGAs with finite orders."
   ]
  },
  {
   "cell_type": "markdown",
   "metadata": {},
   "source": [
    "## The DFT"
   ]
  },
  {
   "cell_type": "code",
   "execution_count": 6,
   "metadata": {
    "collapsed": true
   },
   "outputs": [],
   "source": [
    "# Take the DFT (a multidimensional FFT is used)\n",
    "function_sampled_dual = function_sampled.dft()"
   ]
  },
  {
   "cell_type": "markdown",
   "metadata": {},
   "source": [
    "## Transversal"
   ]
  },
  {
   "cell_type": "markdown",
   "metadata": {},
   "source": [
    "We use a transversal rule, along with $\\widehat{\\phi}_\\text{sample}$, to push the function to $\\widehat{T} = \\mathbb{Z}$."
   ]
  },
  {
   "cell_type": "code",
   "execution_count": 7,
   "metadata": {},
   "outputs": [
    {
     "data": {
      "text/latex": [
       "$$\\operatorname{function} \\in \\mathbb{C}^G, \\ G = \\mathbb{Z}$$"
      ],
      "text/plain": [
       "<IPython.core.display.Math object>"
      ]
     },
     "metadata": {},
     "output_type": "display_data"
    }
   ],
   "source": [
    "# Set up a transversal rule\n",
    "def transversal_rule(arg_list):\n",
    "    x = arg_list[0] # First element of vector/list\n",
    "    if x < n/2:\n",
    "        return [x]\n",
    "    else:\n",
    "        return [x - n]\n",
    "\n",
    "# Calculate the Fourier series coefficients\n",
    "phi_d = phi_sample.dual()\n",
    "rule = transversal_rule\n",
    "coeffs = function_sampled_dual.transversal(phi_d, rule)\n",
    "show(coeffs)"
   ]
  },
  {
   "cell_type": "markdown",
   "metadata": {},
   "source": [
    "## Comparing with analytical solution"
   ]
  },
  {
   "cell_type": "markdown",
   "metadata": {},
   "source": [
    "Let us compare this result with the analytical solution, which is\n",
    "\n",
    "$$c_k = \n",
    "  \\begin{cases} \n",
    "   1/2 & \\text{if } k = 0 \\\\\n",
    "   -1 / 2 \\pi i k   & \\text{else}.\n",
    "  \\end{cases}$$"
   ]
  },
  {
   "cell_type": "code",
   "execution_count": 8,
   "metadata": {
    "collapsed": true
   },
   "outputs": [],
   "source": [
    "# Set up a function for the analytical solution\n",
    "def analytical(k):\n",
    "    if k == 0:\n",
    "        return 1/2\n",
    "    return complex(0, 1)/(2*pi*k)\n",
    "\n",
    "# Sample the analytical and computed functions\n",
    "sample_values = list(range(-int(1.5*n), int(1.5*n)+1))\n",
    "analytical_sampled = list(map(analytical, sample_values))\n",
    "computed_sampled = coeffs.sample(sample_values)\n",
    "\n",
    "# Because the forward DFT does not scale, we scale manually\n",
    "computed_sampled = [k/n for k in computed_sampled]"
   ]
  },
  {
   "cell_type": "markdown",
   "metadata": {},
   "source": [
    "Finally, we create the plot comparing the computed coefficients with the ones obtained analytically. Notice how the computed values drop to zero outside of the transversal region."
   ]
  },
  {
   "cell_type": "code",
   "execution_count": 9,
   "metadata": {},
   "outputs": [
    {
     "data": {
      "application/pdf": "[encoded data removed]",
      "image/png": "[encoded data removed]",
      "text/plain": [
       "<matplotlib.figure.Figure at 0x7f483131b278>"
      ]
     },
     "metadata": {},
     "output_type": "display_data"
    }
   ],
   "source": [
    "# Since we are working with complex numbers\n",
    "# and we wish to plot them, we convert\n",
    "# to absolute values first\n",
    "length = lambda x: float(abs(x))\n",
    "analytical_abs = list(map(length, analytical_sampled))\n",
    "computed_abs = list(map(length, computed_sampled))\n",
    "\n",
    "# Plot it\n",
    "plt.figure(figsize = (8,3))\n",
    "plt.title('Absolute value of Fourier coefficients')\n",
    "plt.plot(sample_values, analytical_abs, label = 'Analytical')\n",
    "plt.plot(sample_values, computed_abs, label = 'Computed')\n",
    "plt.grid(True)\n",
    "plt.legend(loc = 'best')\n",
    "plt.show()"
   ]
  }
 ],
 "metadata": {
  "kernelspec": {
   "display_name": "Python [conda env:abelian]",
   "language": "python",
   "name": "conda-env-abelian-py"
  },
  "language_info": {
   "codemirror_mode": {
    "name": "ipython",
    "version": 3
   },
   "file_extension": ".py",
   "mimetype": "text/x-python",
   "name": "python",
   "nbconvert_exporter": "python",
   "pygments_lexer": "ipython3",
   "version": "3.6.2"
  }
 },
 "nbformat": 4,
 "nbformat_minor": 2
}
