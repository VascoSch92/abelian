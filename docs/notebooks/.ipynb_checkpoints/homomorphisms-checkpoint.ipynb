{
 "cells": [
  {
   "cell_type": "markdown",
   "metadata": {},
   "source": [
    "# Tutorial: Homomorphisms"
   ]
  },
  {
   "cell_type": "code",
   "execution_count": 1,
   "metadata": {
    "collapsed": true
   },
   "outputs": [],
   "source": [
    "from IPython.display import display, Math\n",
    "\n",
    "def show(arg):\n",
    "    return display(Math(arg.to_latex()))"
   ]
  },
  {
   "cell_type": "markdown",
   "metadata": {},
   "source": [
    "## Creating a homomorphism"
   ]
  },
  {
   "cell_type": "markdown",
   "metadata": {},
   "source": [
    "Homomorphisms between general LCAs are represented by the `HomLCA` class."
   ]
  },
  {
   "cell_type": "code",
   "execution_count": 2,
   "metadata": {},
   "outputs": [
    {
     "data": {
      "text/latex": [
       "$$\\begin{pmatrix}1 & 2\\\\3 & 4\\end{pmatrix}:\\mathbb{Z} \\oplus \\mathbb{Z} \\to \\mathbb{R} \\oplus \\mathbb{Z}_{5}$$"
      ],
      "text/plain": [
       "<IPython.core.display.Math object>"
      ]
     },
     "metadata": {},
     "output_type": "display_data"
    }
   ],
   "source": [
    "from abelian import LCA, HomLCA\n",
    "\n",
    "target = LCA([0, 5], discrete = [False, True])\n",
    "phi = HomLCA([[1,2], [3,4]], target = target)\n",
    "show(phi)"
   ]
  },
  {
   "cell_type": "markdown",
   "metadata": {},
   "source": [
    "Homomorphisms between FGAs are represented by the `HomFGA` class."
   ]
  },
  {
   "cell_type": "code",
   "execution_count": 3,
   "metadata": {},
   "outputs": [
    {
     "data": {
      "text/latex": [
       "$$\\begin{pmatrix}4 & 5\\\\9 & -3\\end{pmatrix}:\\mathbb{Z} \\oplus \\mathbb{Z} \\to \\mathbb{Z} \\oplus \\mathbb{Z}$$"
      ],
      "text/plain": [
       "<IPython.core.display.Math object>"
      ]
     },
     "metadata": {},
     "output_type": "display_data"
    }
   ],
   "source": [
    "from abelian import HomFGA\n",
    "# If no source and target are given, Z is assumed\n",
    "phi = HomFGA([[4, 5], [9, -3]])\n",
    "show(phi)"
   ]
  },
  {
   "cell_type": "markdown",
   "metadata": {},
   "source": [
    "The best way to create a `HomLCA` or `HomFGA` is to use the `Homomorphism` factory function. It will return as instance of the correct object depending on the data passed to it."
   ]
  },
  {
   "cell_type": "code",
   "execution_count": 4,
   "metadata": {},
   "outputs": [
    {
     "name": "stdout",
     "output_type": "stream",
     "text": [
      "[Z, Z, Z]\n"
     ]
    },
    {
     "data": {
      "text/latex": [
       "$$\\begin{pmatrix}1 & 0 & 1\\\\0 & 1 & 1\\end{pmatrix}:\\mathbb{Z} \\oplus \\mathbb{Z} \\oplus \\mathbb{Z} \\to \\mathbb{Z} \\oplus \\mathbb{Z}$$"
      ],
      "text/plain": [
       "<IPython.core.display.Math object>"
      ]
     },
     "metadata": {},
     "output_type": "display_data"
    }
   ],
   "source": [
    "from abelian import Homomorphism\n",
    "psi = Homomorphism([[1, 0, 1], [0, 1, 1]])\n",
    "print(psi.source)\n",
    "show(psi)"
   ]
  },
  {
   "cell_type": "markdown",
   "metadata": {},
   "source": [
    "## Compositions"
   ]
  },
  {
   "cell_type": "markdown",
   "metadata": {},
   "source": [
    "Homomorphisms can be composed."
   ]
  },
  {
   "cell_type": "code",
   "execution_count": 5,
   "metadata": {},
   "outputs": [
    {
     "data": {
      "text/latex": [
       "$$\\begin{pmatrix}4 & 5 & 9\\\\9 & -3 & 6\\end{pmatrix}:\\mathbb{Z} \\oplus \\mathbb{Z} \\oplus \\mathbb{Z} \\to \\mathbb{Z} \\oplus \\mathbb{Z}$$"
      ],
      "text/plain": [
       "<IPython.core.display.Math object>"
      ]
     },
     "metadata": {},
     "output_type": "display_data"
    }
   ],
   "source": [
    "# The composition of phi, then psi\n",
    "show(phi * psi)"
   ]
  },
  {
   "cell_type": "markdown",
   "metadata": {},
   "source": [
    "Automorphisms are allowed using exponents."
   ]
  },
  {
   "cell_type": "code",
   "execution_count": 6,
   "metadata": {},
   "outputs": [
    {
     "data": {
      "text/latex": [
       "$$\\begin{pmatrix}289 & 290\\\\522 & -117\\end{pmatrix}:\\mathbb{Z} \\oplus \\mathbb{Z} \\to \\mathbb{Z} \\oplus \\mathbb{Z}$$"
      ],
      "text/plain": [
       "<IPython.core.display.Math object>"
      ]
     },
     "metadata": {},
     "output_type": "display_data"
    }
   ],
   "source": [
    "show(phi**3)"
   ]
  },
  {
   "cell_type": "markdown",
   "metadata": {},
   "source": [
    "Numbers and homomorphisms can be added to homomorphisms, in the same way that numbers and matrices typically are added to matrices."
   ]
  },
  {
   "cell_type": "code",
   "execution_count": 7,
   "metadata": {},
   "outputs": [
    {
     "data": {
      "text/latex": [
       "$$\\begin{pmatrix}2 & 0 & 2\\\\0 & 2 & 2\\end{pmatrix}:\\mathbb{Z} \\oplus \\mathbb{Z} \\oplus \\mathbb{Z} \\to \\mathbb{Z} \\oplus \\mathbb{Z}$$"
      ],
      "text/plain": [
       "<IPython.core.display.Math object>"
      ]
     },
     "metadata": {},
     "output_type": "display_data"
    },
    {
     "data": {
      "text/latex": [
       "$$\\begin{pmatrix}11 & 10 & 11\\\\10 & 11 & 11\\end{pmatrix}:\\mathbb{Z} \\oplus \\mathbb{Z} \\oplus \\mathbb{Z} \\to \\mathbb{Z} \\oplus \\mathbb{Z}$$"
      ],
      "text/plain": [
       "<IPython.core.display.Math object>"
      ]
     },
     "metadata": {},
     "output_type": "display_data"
    }
   ],
   "source": [
    "show(psi + psi)\n",
    "show(psi + 10)"
   ]
  },
  {
   "cell_type": "markdown",
   "metadata": {},
   "source": [
    "## Slice notation"
   ]
  },
  {
   "cell_type": "markdown",
   "metadata": {},
   "source": [
    "Slice notation is available."
   ]
  },
  {
   "cell_type": "code",
   "execution_count": 8,
   "metadata": {},
   "outputs": [
    {
     "data": {
      "text/latex": [
       "$$\\begin{pmatrix}10 & 10\\\\10 & 15\\end{pmatrix}:\\mathbb{Z}_{2} \\oplus \\mathbb{Z}_{4} \\to \\mathbb{Z}_{20} \\oplus \\mathbb{Z}_{20}$$"
      ],
      "text/plain": [
       "<IPython.core.display.Math object>"
      ]
     },
     "metadata": {},
     "output_type": "display_data"
    },
    {
     "data": {
      "text/latex": [
       "$$\\begin{pmatrix}10 & 10\\end{pmatrix}:\\mathbb{Z}_{2} \\oplus \\mathbb{Z}_{4} \\to \\mathbb{Z}_{20}$$"
      ],
      "text/plain": [
       "<IPython.core.display.Math object>"
      ]
     },
     "metadata": {},
     "output_type": "display_data"
    },
    {
     "data": {
      "text/latex": [
       "$$\\begin{pmatrix}10\\\\10\\end{pmatrix}:\\mathbb{Z}_{2} \\to \\mathbb{Z}_{20} \\oplus \\mathbb{Z}_{20}$$"
      ],
      "text/plain": [
       "<IPython.core.display.Math object>"
      ]
     },
     "metadata": {},
     "output_type": "display_data"
    },
    {
     "data": {
      "text/latex": [
       "$$15:\\mathbb{Z}_{4} \\to \\mathbb{Z}_{20}$$"
      ],
      "text/plain": [
       "<IPython.core.display.Math object>"
      ]
     },
     "metadata": {},
     "output_type": "display_data"
    }
   ],
   "source": [
    "phi = Homomorphism([[10, 10], [10, 15]], target = [20, 20])\n",
    "phi = phi.project_to_source()\n",
    "show(phi)\n",
    "show(phi[0, :]) # First row, all columns\n",
    "show(phi[:, 0]) # First row, all columns\n",
    "show(phi[1, 1]) # Second row, second column"
   ]
  }
 ],
 "metadata": {
  "kernelspec": {
   "display_name": "Python [conda env:abelian]",
   "language": "python",
   "name": "conda-env-abelian-py"
  },
  "language_info": {
   "codemirror_mode": {
    "name": "ipython",
    "version": 3
   },
   "file_extension": ".py",
   "mimetype": "text/x-python",
   "name": "python",
   "nbconvert_exporter": "python",
   "pygments_lexer": "ipython3",
   "version": "3.6.2"
  }
 },
 "nbformat": 4,
 "nbformat_minor": 2
}
